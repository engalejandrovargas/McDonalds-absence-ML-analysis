{
 "cells": [
  {
   "cell_type": "code",
   "execution_count": 32,
   "id": "95587402",
   "metadata": {},
   "outputs": [],
   "source": [
    "import warnings\n",
    "warnings.filterwarnings('ignore')\n",
    "import re\n",
    "import pandas as pd\n",
    "import numpy as np\n",
    "import matplotlib.pyplot as plt\n",
    "\n",
    "from sklearn.model_selection import train_test_split\n"
   ]
  },
  {
   "cell_type": "code",
   "execution_count": 11,
   "id": "d3aac1ad",
   "metadata": {},
   "outputs": [
    {
     "data": {
      "text/plain": [
       "['\\ufeffChat history in \"吉塚PG店全体グループ\"\\n',\n",
       " 'Saved on: 14/09/2023, 9:42 pm\\n',\n",
       " '\\n',\n",
       " 'Sun, 29/01/2023\\n',\n",
       " '\\n']"
      ]
     },
     "execution_count": 11,
     "metadata": {},
     "output_type": "execute_result"
    }
   ],
   "source": [
    "# Let's read and display the first few lines of the chat history to understand its structure.\n",
    "\n",
    "with open(\"Chat history in -吉塚PG店全体グループ-.txt\", \"r\", encoding=\"utf-8\") as file:\n",
    "    chat_content = file.readlines()\n",
    "\n",
    "# Displaying the first 10 lines for an initial view\n",
    "chat_content[0:5]"
   ]
  },
  {
   "cell_type": "code",
   "execution_count": 12,
   "id": "2490e109",
   "metadata": {},
   "outputs": [
    {
     "data": {
      "text/plain": [
       "[{'Date': 'Mon, 30/01/2023',\n",
       "  'Time': '17:07',\n",
       "  'Sender': 'Thịnh',\n",
       "  'Message': 'お疲れ様です。レ\\u3000タイン\\u3000テインです。今日は21-26時までINでしたが薬を飲んだけどまだ体調不良ので休ませていただきました。もし入れる方がいらっさいましたら、宜しくお願いします。'},\n",
       " {'Date': 'Thu, 02/02/2023',\n",
       "  'Time': '08:35',\n",
       "  'Sender': '田中かもね',\n",
       "  'Message': 'お疲れ様です。田中です。今日9時～2じ𝙸𝙽の予定でしたが、妹が発熱し、コロナの可能性があるのでおやすみさせていただきました。PCR検査の結果が出たらまた連絡させていただきます。申し訳ありません🙇\\u200d♀️'},\n",
       " {'Date': 'Sun, 12/02/2023',\n",
       "  'Time': '16:31',\n",
       "  'Sender': 'Bimala',\n",
       "  'Message': 'お疲れ様です。ビマラです。今日18-0時まで入っていましたが体調不良のためお休みさせていただきました。代わりに入れる方がいましたらよろしくお願いします。'}]"
      ]
     },
     "execution_count": 12,
     "metadata": {},
     "output_type": "execute_result"
    }
   ],
   "source": [
    "\n",
    "\n",
    "# Define common phrases and keywords that typically indicate absences\n",
    "keywords_english = [\"sick\", \"unwell\", \"not feeling well\", \"fever\", \n",
    "                   \"can't come\", \"won't be able\", \"absent\", \"taking a day off\"]\n",
    "keywords_japanese = [\"病気\", \"来れない\", \"休む\", \"欠勤\"]\n",
    "# Expanding the list of keywords\n",
    "expanded_keywords_japanese = [\"遅刻\", \"早退\", \"体調\", \"熱\", \"風邪\", \"ドクター\", \"医者\", \"病院\", \"休養\", \"休憩\", \"体が\"]\n",
    "# Expanding the list of keywords further with school, club, and family-related terms\n",
    "further_expanded_keywords = [\"学校\", \"テスト\", \"試験\", \"部活\", \"練習\", \"家族\", \"親\", \"子供\", \"子ども\", \"行事\", \"急用\"]\n",
    "\n",
    "# Combining all keywords for absence identification\n",
    "all_keywords_combined = keywords_english + keywords_japanese + expanded_keywords_japanese + further_expanded_keywords\n",
    "\n",
    "# Re-identifying absences using the expanded list of keywords\n",
    "absence_data = []\n",
    "\n",
    "for line in chat_content:\n",
    "    # Extract date\n",
    "    date_pattern = re.compile(r\"\\w+, \\d{2}/\\d{2}/\\d{4}\")\n",
    "    if date_pattern.match(line):\n",
    "        current_date = line.strip()\n",
    "    \n",
    "    # Extract messages and label them\n",
    "    message_pattern = re.compile(r\"\\d{2}:\\d{2}\\t(.*?)\\t(.*)\")\n",
    "    match = message_pattern.match(line)\n",
    "    if match and current_date:\n",
    "        time, sender, message = match.group(0).split('\\t')\n",
    "        if any(keyword in message for keyword in all_keywords_combined):\n",
    "            absence_data.append({\n",
    "                \"Date\": current_date,\n",
    "                \"Time\": time,\n",
    "                \"Sender\": sender,\n",
    "                \"Message\": message\n",
    "            })\n",
    "\n",
    "# Displaying the first few records of the re-identified absences\n",
    "absence_data[:3]\n"
   ]
  },
  {
   "cell_type": "code",
   "execution_count": 13,
   "id": "198ff09f",
   "metadata": {},
   "outputs": [
    {
     "data": {
      "image/png": "[encoded data removed]",
      "text/plain": [
       "<Figure size 1080x360 with 2 Axes>"
      ]
     },
     "metadata": {
      "needs_background": "light"
     },
     "output_type": "display_data"
    }
   ],
   "source": [
    "# Convert the expanded absence data into a DataFrame\n",
    "expanded_absence_df = pd.DataFrame(absence_data)\n",
    "\n",
    "# Convert the 'Date' column to datetime format for easier analysis\n",
    "expanded_absence_df['Date'] = pd.to_datetime(expanded_absence_df['Date'], format='%a, %d/%m/%Y')\n",
    "\n",
    "# Extract day of the week and month from the date\n",
    "expanded_absence_df['Day_of_Week'] = expanded_absence_df['Date'].dt.day_name()\n",
    "expanded_absence_df['Month'] = expanded_absence_df['Date'].dt.month_name()\n",
    "\n",
    "# Plotting distribution of absences across days of the week and months with expanded data\n",
    "fig, ax = plt.subplots(1, 2, figsize=(15, 5))\n",
    "\n",
    "# Distribution across days of the week\n",
    "expanded_absence_df['Day_of_Week'].value_counts().reindex([\n",
    "    'Monday', 'Tuesday', 'Wednesday', 'Thursday', 'Friday', 'Saturday', 'Sunday'\n",
    "]).plot(kind='bar', ax=ax[0], color='skyblue')\n",
    "ax[0].set_title(\"Absences by Day of the Week (Expanded Data)\")\n",
    "ax[0].set_ylabel(\"Number of Absences\")\n",
    "\n",
    "# Distribution across months\n",
    "expanded_absence_df['Month'].value_counts().reindex([\n",
    "    'January', 'February', 'March', 'April', 'May', 'June', 'July',\n",
    "    'August', 'September', 'October', 'November', 'December'\n",
    "]).plot(kind='bar', ax=ax[1], color='lightcoral')\n",
    "ax[1].set_title(\"Absences by Month (Expanded Data)\")\n",
    "ax[1].set_ylabel(\"Number of Absences\")\n",
    "\n",
    "plt.tight_layout()\n",
    "plt.show()\n",
    "\n"
   ]
  },
  {
   "cell_type": "code",
   "execution_count": 15,
   "id": "9cdd4afb",
   "metadata": {},
   "outputs": [
    {
     "name": "stderr",
     "output_type": "stream",
     "text": [
      "[nltk_data] Downloading package punkt to\n",
      "[nltk_data]     C:\\Users\\Aleva\\AppData\\Roaming\\nltk_data...\n",
      "[nltk_data]   Package punkt is already up-to-date!\n"
     ]
    },
    {
     "data": {
      "text/plain": [
       "[('(', 6),\n",
       " (')', 6),\n",
       " ('お疲れ様です。ジレル', 4),\n",
       " ('の予定でしたが急用が入ってしまってお休みをいただきました。', 3),\n",
       " ('すみません。昨日から頭が痛くて熱もあるから今日休みたいです。すみませんでした。', 2),\n",
       " ('お疲れ様です。プラビンです。今日', 2),\n",
       " ('18：00ー23：00', 2),\n",
       " ('すみませんきょう', 2),\n",
       " ('は試験が11:30時までなので12時に出勤できます、ビㇴヵ、ナビナ', 2),\n",
       " ('Regreting', 2)]"
      ]
     },
     "execution_count": 15,
     "metadata": {},
     "output_type": "execute_result"
    }
   ],
   "source": [
    "from collections import Counter\n",
    "import nltk\n",
    "nltk.download('punkt')\n",
    "\n",
    "# Tokenizing the messages\n",
    "absence_messages = ' '.join(expanded_absence_df['Message'])\n",
    "tokens = nltk.word_tokenize(absence_messages)\n",
    "\n",
    "# Filtering out common words (stopwords) and the keywords we initially identified for labeling\n",
    "stopwords = set(nltk.corpus.stopwords.words('english'))  # English stopwords\n",
    "common_words = [\"の\", \"で\", \"です\", \"が\", \"と\", \"に\", \"を\", \"は\", \"た\", \"し\", \"ます\", \"て\", \"でき\", \"ない\", \"から\", \"も\", \"こと\"]  # Common Japanese words\n",
    "filtered_tokens = [token for token in tokens if token.lower() not in all_keywords_combined and token.lower() not in stopwords and token not in common_words]\n",
    "\n",
    "# Counting the most common words\n",
    "word_count = Counter(filtered_tokens)\n",
    "\n",
    "# Displaying the top 10 most common words or phrases\n",
    "common_words_phrases = word_count.most_common(10)\n",
    "common_words_phrases\n"
   ]
  },
  {
   "cell_type": "code",
   "execution_count": 16,
   "id": "8305d592",
   "metadata": {},
   "outputs": [
    {
     "data": {
      "image/png": "[encoded data removed]",
      "text/plain": [
       "<Figure size 720x432 with 1 Axes>"
      ]
     },
     "metadata": {
      "needs_background": "light"
     },
     "output_type": "display_data"
    }
   ],
   "source": [
    "# Plotting distribution of absences by individuals with expanded data\n",
    "\n",
    "# Sorting individuals by their absence count in the expanded dataset\n",
    "expanded_individual_absences = expanded_absence_df['Sender'].value_counts()\n",
    "\n",
    "# Displaying the top 10 individuals with the highest number of absences\n",
    "plt.figure(figsize=(10, 6))\n",
    "expanded_individual_absences.head(10).plot(kind='barh', color='mediumseagreen')\n",
    "plt.title(\"Top 10 Individuals by Number of Reported Absences (Expanded Data)\")\n",
    "plt.xlabel(\"Number of Absences\")\n",
    "plt.ylabel(\"Individuals\")\n",
    "plt.gca().invert_yaxis()  # Displaying the person with the highest absences at the top\n",
    "plt.show()\n"
   ]
  },
  {
   "cell_type": "code",
   "execution_count": 17,
   "id": "821fe1e9",
   "metadata": {},
   "outputs": [
    {
     "data": {
      "text/plain": [
       "なおひろ                 6\n",
       "ジレル　プスカル             5\n",
       "Shine Min Phyo       4\n",
       "Thịnh                3\n",
       "Nilar Oo             3\n",
       "Sunita Gurung        3\n",
       "Unknown              3\n",
       "かずき                  2\n",
       "ミヤ                   2\n",
       "田中秀子                 2\n",
       "Kumiko Tarumi        2\n",
       "くわばらひさこ              2\n",
       "田中かもね                2\n",
       "nabina adhikari      1\n",
       "ラマ　ソクチェン             1\n",
       "飛永　美知子               1\n",
       "Mina Karki           1\n",
       "Alejandro Vargas     1\n",
       "ロウ                   1\n",
       "ちよ                   1\n",
       "Binuka Karki         1\n",
       "イヒョジン                1\n",
       "夏帆(かほ)               1\n",
       "ダヌワルケダル              1\n",
       "ゼンリンテﾂ               1\n",
       "ティンザ　ピェピョータン         1\n",
       "Natalie              1\n",
       "Aerabella Crestha    1\n",
       "あかり                  1\n",
       "Twel Tar Oo          1\n",
       "Thwe Nadi Soe        1\n",
       "ガリマ                  1\n",
       "Bimala               1\n",
       "Sherpa               1\n",
       "Name: Sender, dtype: int64"
      ]
     },
     "execution_count": 17,
     "metadata": {},
     "output_type": "execute_result"
    }
   ],
   "source": [
    "expanded_individual_absences"
   ]
  },
  {
   "cell_type": "code",
   "execution_count": 18,
   "id": "9522054f",
   "metadata": {},
   "outputs": [
    {
     "data": {
      "image/png": "[encoded data removed]",
      "text/plain": [
       "<Figure size 720x432 with 1 Axes>"
      ]
     },
     "metadata": {
      "needs_background": "light"
     },
     "output_type": "display_data"
    }
   ],
   "source": [
    "# Extracting hour from the time for analysis with expanded data\n",
    "expanded_absence_df['Hour'] = expanded_absence_df['Time'].str.split(':').str[0].astype(int)\n",
    "\n",
    "# Plotting distribution of absences by hour of the day with expanded data\n",
    "plt.figure(figsize=(10, 6))\n",
    "expanded_absence_df['Hour'].value_counts().sort_index().plot(kind='bar', color='orchid')\n",
    "plt.title(\"Distribution of Absence Announcements by Hour of the Day (Expanded Data)\")\n",
    "plt.xlabel(\"Hour of the Day (24-hour format)\")\n",
    "plt.ylabel(\"Number of Absence Announcements\")\n",
    "plt.xticks(rotation=0)\n",
    "plt.show()\n"
   ]
  },
  {
   "cell_type": "markdown",
   "id": "3a870872",
   "metadata": {},
   "source": [
    "Sentiment Analysis"
   ]
  },
  {
   "cell_type": "code",
   "execution_count": 19,
   "id": "d521737f",
   "metadata": {},
   "outputs": [
    {
     "data": {
      "text/plain": [
       "negative    21\n",
       "neutral     20\n",
       "positive    19\n",
       "Name: Sentiment, dtype: int64"
      ]
     },
     "execution_count": 19,
     "metadata": {},
     "output_type": "execute_result"
    }
   ],
   "source": [
    "# Basic sentiment analysis based on certain keywords\n",
    "\n",
    "# Positive, negative and neutral keywords for sentiment analysis\n",
    "positive_keywords = [\"すみません\", \"申し訳ありません\", \"ごめんなさい\"]  # Apologetic terms often used in Japanese\n",
    "negative_keywords = [\"病気\", \"熱\", \"風邪\", \"体調不良\", \"急用\", \"発熱\"]  # Terms indicating sickness or emergencies\n",
    "\n",
    "def infer_sentiment(message):\n",
    "    if any(keyword in message for keyword in positive_keywords):\n",
    "        return \"positive\"\n",
    "    elif any(keyword in message for keyword in negative_keywords):\n",
    "        return \"negative\"\n",
    "    else:\n",
    "        return \"neutral\"\n",
    "\n",
    "expanded_absence_df['Sentiment'] = expanded_absence_df['Message'].apply(infer_sentiment)\n",
    "sentiment_distribution = expanded_absence_df['Sentiment'].value_counts()\n",
    "\n",
    "sentiment_distribution\n"
   ]
  },
  {
   "cell_type": "code",
   "execution_count": 20,
   "id": "c136ead4",
   "metadata": {},
   "outputs": [
    {
     "data": {
      "text/plain": [
       "Sender\n",
       "Kumiko Tarumi     148.000000\n",
       "Nilar Oo           64.000000\n",
       "Shine Min Phyo     14.666667\n",
       "Sunita Gurung      50.500000\n",
       "Thịnh              16.000000\n",
       "Unknown            35.000000\n",
       "かずき                13.000000\n",
       "くわばらひさこ             1.000000\n",
       "なおひろ                8.400000\n",
       "ジレル　プスカル           11.000000\n",
       "ミヤ                 15.000000\n",
       "田中かもね              42.000000\n",
       "田中秀子                0.000000\n",
       "Name: Days_Between_Absences, dtype: float64"
      ]
     },
     "execution_count": 20,
     "metadata": {},
     "output_type": "execute_result"
    }
   ],
   "source": [
    "# Calculating the average duration between absences for each individual\n",
    "\n",
    "# Sorting the data by 'Sender' and 'Date'\n",
    "expanded_absence_df = expanded_absence_df.sort_values(by=['Sender', 'Date'])\n",
    "\n",
    "# Calculate the difference between consecutive absence dates for each individual\n",
    "expanded_absence_df['Days_Between_Absences'] = expanded_absence_df.groupby('Sender')['Date'].diff().dt.days\n",
    "\n",
    "# Calculate the average duration between absences for each individual\n",
    "average_duration_between_absences = expanded_absence_df.groupby('Sender')['Days_Between_Absences'].mean().dropna()\n",
    "\n",
    "average_duration_between_absences\n"
   ]
  },
  {
   "cell_type": "code",
   "execution_count": 21,
   "id": "0593d258",
   "metadata": {},
   "outputs": [
    {
     "data": {
      "text/plain": [
       "Date\n",
       "2023-02-22        [Nilar Oo, Twel Tar Oo]\n",
       "2023-03-02     [Aerabella Crestha, Thịnh]\n",
       "2023-06-18         [Shine Min Phyo, なおひろ]\n",
       "2023-06-22                 [ラマ　ソクチェン, ロウ]\n",
       "2023-08-03           [田中秀子, 田中秀子, 飛永　美知子]\n",
       "2023-08-08    [nabina adhikari, ジレル　プスカル]\n",
       "2023-09-01             [Sherpa, ジレル　プスカル]\n",
       "Name: Sender, dtype: object"
      ]
     },
     "execution_count": 21,
     "metadata": {},
     "output_type": "execute_result"
    }
   ],
   "source": [
    "# Analyzing dates with multiple absences to identify correlations\n",
    "\n",
    "# Counting the number of absences on each date\n",
    "absences_by_date = expanded_absence_df['Date'].value_counts()\n",
    "\n",
    "# Dates with more than one absence\n",
    "multiple_absences_dates = absences_by_date[absences_by_date > 1].index\n",
    "\n",
    "# Extracting the names of individuals who were absent on these dates\n",
    "correlated_absences = expanded_absence_df[expanded_absence_df['Date'].isin(multiple_absences_dates)].groupby('Date')['Sender'].apply(list)\n",
    "\n",
    "correlated_absences\n"
   ]
  },
  {
   "cell_type": "code",
   "execution_count": 22,
   "id": "ae4cac7e",
   "metadata": {},
   "outputs": [
    {
     "data": {
      "text/plain": [
       "(72.96666666666667, 15.286102062975027)"
      ]
     },
     "execution_count": 22,
     "metadata": {},
     "output_type": "execute_result"
    }
   ],
   "source": [
    "# Extracting all messages from the chat for message length analysis\n",
    "all_messages_data = []\n",
    "\n",
    "for line in chat_content:\n",
    "    # Extract messages and their details\n",
    "    message_pattern = re.compile(r\"\\d{2}:\\d{2}\\t(.*?)\\t(.*)\")\n",
    "    match = message_pattern.match(line)\n",
    "    if match:\n",
    "        time, sender, message = match.group(0).split('\\t')\n",
    "        all_messages_data.append({\n",
    "            \"Time\": time,\n",
    "            \"Sender\": sender,\n",
    "            \"Message\": message\n",
    "        })\n",
    "\n",
    "# Convert all messages into a DataFrame\n",
    "all_messages_df = pd.DataFrame(all_messages_data)\n",
    "\n",
    "# Calculate average message length for absence messages and all messages\n",
    "average_absence_message_length = expanded_absence_df['Message'].str.len().mean()\n",
    "average_message_length = all_messages_df['Message'].str.len().mean()\n",
    "\n",
    "average_absence_message_length, average_message_length\n"
   ]
  },
  {
   "cell_type": "code",
   "execution_count": 23,
   "id": "0907cd91",
   "metadata": {},
   "outputs": [
    {
     "data": {
      "text/plain": [
       "しょうじみほ           464\n",
       "MIYU             203\n",
       "みやざきともみ          146\n",
       "あべき              130\n",
       "KAORÜ。            73\n",
       "Kumiko Tarumi     66\n",
       "田中洋輔              43\n",
       "松下　舞              36\n",
       "MIHO              29\n",
       "Unknown           27\n",
       "Name: Sender, dtype: int64"
      ]
     },
     "execution_count": 23,
     "metadata": {},
     "output_type": "execute_result"
    }
   ],
   "source": [
    "# Calculating the number of messages sent by each individual\n",
    "communication_frequency = all_messages_df['Sender'].value_counts()\n",
    "\n",
    "communication_frequency.head(10)  # Displaying the top 10 individuals with the highest number of messages\n"
   ]
  },
  {
   "cell_type": "code",
   "execution_count": 25,
   "id": "3add0567",
   "metadata": {},
   "outputs": [
    {
     "data": {
      "text/plain": [
       "['A_san',\n",
       " 'Aant Min Thaw(ミン)',\n",
       " 'Aerabella Crestha',\n",
       " 'Alejandro Vargas',\n",
       " 'Bimala',\n",
       " 'Binuka Karki',\n",
       " 'Ei Thandar',\n",
       " 'Ghosh Gaurab ',\n",
       " 'HIDETOSHI YAMAMURA',\n",
       " 'Hein min Htwe',\n",
       " 'JANE',\n",
       " 'KAORÜ。',\n",
       " 'Kareena tandukar',\n",
       " 'Kumiko Tarumi',\n",
       " 'MIHO',\n",
       " 'MIYU',\n",
       " 'Mina Karki',\n",
       " 'Natalie',\n",
       " 'Nilar Oo',\n",
       " 'Nishan',\n",
       " 'Purnendu Mandal',\n",
       " 'RiO AkAi',\n",
       " 'Samip ban',\n",
       " 'Sherpa',\n",
       " 'Shine Min Phyo',\n",
       " 'Sunita Gurung',\n",
       " 'Sushmita',\n",
       " 'Taisei Watanabe',\n",
       " 'Tanisha',\n",
       " 'Thwe Nadi Soe',\n",
       " 'Thịnh',\n",
       " 'Twel Tar Oo',\n",
       " 'Uehara Yuri',\n",
       " 'Unknown',\n",
       " 'Yuko Takahashi',\n",
       " 'hien',\n",
       " 'mako',\n",
       " 'miku',\n",
       " 'nabina adhikari',\n",
       " 'shamindi',\n",
       " 'あ',\n",
       " 'あああ',\n",
       " 'あかり',\n",
       " 'あべき',\n",
       " 'いのうえねこもち',\n",
       " 'かずき',\n",
       " 'くるみ',\n",
       " 'くわばらひさこ',\n",
       " 'ここな',\n",
       " 'さくら',\n",
       " 'さとう しゅう',\n",
       " 'しょうじみほ',\n",
       " 'ちよ',\n",
       " 'なお',\n",
       " 'なおひろ',\n",
       " 'ながたもえ',\n",
       " 'ななみ',\n",
       " 'なーほ',\n",
       " 'のぶ',\n",
       " 'ぱんだ',\n",
       " 'ひとみ',\n",
       " 'へーマー',\n",
       " 'みき',\n",
       " 'みく',\n",
       " 'みさき',\n",
       " 'みほ',\n",
       " 'みやざきともみ',\n",
       " 'もあ',\n",
       " 'もも',\n",
       " 'ゆう',\n",
       " 'ゆうご',\n",
       " 'ゆめの',\n",
       " 'ゆーり',\n",
       " 'よし さと',\n",
       " 'りあな🐼',\n",
       " 'りんしゅう',\n",
       " 'れいら',\n",
       " 'アニス(Anish)',\n",
       " 'アヤカ',\n",
       " 'イヒョジン',\n",
       " 'ガリマ',\n",
       " 'サプコダ\\u3000バン\\u3000パビトラ',\n",
       " 'ショウジ',\n",
       " 'シンゴシンゴ',\n",
       " 'ジレル\\u3000プスカル',\n",
       " 'スレスタ\\u3000サンギタ',\n",
       " 'ゼンリンテﾂ',\n",
       " 'ダヌワルケダル',\n",
       " 'チョーソーハン',\n",
       " 'ティンザ\\u3000ピェピョータン',\n",
       " 'パンデ✨ウサ💕',\n",
       " 'ミギタ タカヤ',\n",
       " 'ミヤ',\n",
       " 'ラファサントス',\n",
       " 'ラマ\\u3000ソクチェン',\n",
       " 'ロウ',\n",
       " '五十嵐\\u3000実桜',\n",
       " '健誠',\n",
       " '優智',\n",
       " '原田 翔馬',\n",
       " '吉田大輔',\n",
       " '塚本 梨菜',\n",
       " '夏帆(かほ)',\n",
       " '夕歌',\n",
       " '夕蘭',\n",
       " '嶋津 和枝',\n",
       " '川俣',\n",
       " '川畑 智也',\n",
       " '幸祐',\n",
       " '広村 翠',\n",
       " '文乃',\n",
       " '早田絢海',\n",
       " '星',\n",
       " '智一',\n",
       " '月瀬 絢',\n",
       " '朋葉',\n",
       " '松下\\u3000舞',\n",
       " '桑原莉枝💓理恵',\n",
       " '水崎あや香',\n",
       " '沙姫',\n",
       " '燈真',\n",
       " '瓜生英子',\n",
       " '田中かもね',\n",
       " '田中洋輔',\n",
       " '田中秀子',\n",
       " '菫',\n",
       " '藤野眞太郎',\n",
       " '輝紀',\n",
       " '近藤 ゆきの',\n",
       " '運天先弥',\n",
       " '阿久根茉莉',\n",
       " '飛永\\u3000美知子',\n",
       " '高月翼',\n",
       " 'ｻﾅ',\n",
       " '💙',\n",
       " '🤪Chihiro🥴']"
      ]
     },
     "execution_count": 25,
     "metadata": {},
     "output_type": "execute_result"
    }
   ],
   "source": [
    "# Initialize an empty set to store unique sender names\n",
    "unique_senders = set()\n",
    "\n",
    "# Define the regular expression pattern to match lines with sender information\n",
    "sender_pattern = re.compile(r\"\\d{2}:\\d{2}\\t(.*?)\\t(.*)\")\n",
    "\n",
    "# Loop through the chat history to extract sender names\n",
    "for line in chat_content:\n",
    "    match = sender_pattern.match(line)\n",
    "    if match:\n",
    "        sender = match.group(1)\n",
    "        unique_senders.add(sender)\n",
    "\n",
    "# Convert the set to a sorted list\n",
    "sorted_unique_senders = sorted(list(unique_senders))\n",
    "sorted_unique_senders\n"
   ]
  },
  {
   "cell_type": "code",
   "execution_count": 26,
   "id": "ee00da13",
   "metadata": {},
   "outputs": [
    {
     "data": {
      "text/plain": [
       "['お疲れ様です。',\n",
       " '今日私のやすみです。',\n",
       " 'お疲れ様です。ススミタです',\n",
       " 'お疲れ様です。',\n",
       " 'お疲れ様です。ススミタです。',\n",
       " 'お疲れ様です。ススミタです。',\n",
       " 'ススミタです。',\n",
       " 'お疲れ様です。',\n",
       " 'お疲れ様です。ススミタです。',\n",
       " 'お疲れ様です。ススミタです。',\n",
       " 'お疲れ様です。ススミタです。',\n",
       " 'お疲れ様です。ススミタです。']"
      ]
     },
     "execution_count": 26,
     "metadata": {},
     "output_type": "execute_result"
    }
   ],
   "source": [
    "# Initialize a list to store messages from the sender 'Sushmita'\n",
    "sushmita_messages = []\n",
    "\n",
    "# Loop through the chat history to extract messages from 'Sushmita'\n",
    "for line in chat_content:\n",
    "    match = sender_pattern.match(line)\n",
    "    if match:\n",
    "        sender = match.group(1)\n",
    "        message = match.group(2)\n",
    "        if sender == 'Sushmita':\n",
    "            sushmita_messages.append(message)\n",
    "\n",
    "# Show the first few messages from 'Sushmita' as a preview\n",
    "sushmita_messages"
   ]
  },
  {
   "cell_type": "code",
   "execution_count": 29,
   "id": "cb949907",
   "metadata": {},
   "outputs": [
    {
     "data": {
      "text/html": [
       "<div>\n",
       "<style scoped>\n",
       "    .dataframe tbody tr th:only-of-type {\n",
       "        vertical-align: middle;\n",
       "    }\n",
       "\n",
       "    .dataframe tbody tr th {\n",
       "        vertical-align: top;\n",
       "    }\n",
       "\n",
       "    .dataframe thead th {\n",
       "        text-align: right;\n",
       "    }\n",
       "</style>\n",
       "<table border=\"1\" class=\"dataframe\">\n",
       "  <thead>\n",
       "    <tr style=\"text-align: right;\">\n",
       "      <th></th>\n",
       "      <th>Date</th>\n",
       "      <th>Time</th>\n",
       "      <th>Message</th>\n",
       "    </tr>\n",
       "  </thead>\n",
       "  <tbody>\n",
       "    <tr>\n",
       "      <th>0</th>\n",
       "      <td>Tue, 31/01/2023</td>\n",
       "      <td>18:06</td>\n",
       "      <td>お疲れ様です。</td>\n",
       "    </tr>\n",
       "    <tr>\n",
       "      <th>1</th>\n",
       "      <td>Wed, 01/03/2023</td>\n",
       "      <td>20:17</td>\n",
       "      <td>今日私のやすみです。</td>\n",
       "    </tr>\n",
       "    <tr>\n",
       "      <th>2</th>\n",
       "      <td>Fri, 03/03/2023</td>\n",
       "      <td>17:51</td>\n",
       "      <td>お疲れ様です。ススミタです</td>\n",
       "    </tr>\n",
       "    <tr>\n",
       "      <th>3</th>\n",
       "      <td>Sun, 02/04/2023</td>\n",
       "      <td>13:24</td>\n",
       "      <td>お疲れ様です。</td>\n",
       "    </tr>\n",
       "    <tr>\n",
       "      <th>4</th>\n",
       "      <td>Thu, 27/04/2023</td>\n",
       "      <td>20:45</td>\n",
       "      <td>お疲れ様です。ススミタです。</td>\n",
       "    </tr>\n",
       "  </tbody>\n",
       "</table>\n",
       "</div>"
      ],
      "text/plain": [
       "              Date   Time         Message\n",
       "0  Tue, 31/01/2023  18:06         お疲れ様です。\n",
       "1  Wed, 01/03/2023  20:17      今日私のやすみです。\n",
       "2  Fri, 03/03/2023  17:51   お疲れ様です。ススミタです\n",
       "3  Sun, 02/04/2023  13:24         お疲れ様です。\n",
       "4  Thu, 27/04/2023  20:45  お疲れ様です。ススミタです。"
      ]
     },
     "execution_count": 29,
     "metadata": {},
     "output_type": "execute_result"
    }
   ],
   "source": [
    "# Re-importing necessary libraries\n",
    "import re\n",
    "import pandas as pd\n",
    "\n",
    "# Regular expression pattern to match the messages\n",
    "adjusted_message_pattern = re.compile(r\"(\\d{2}:\\d{2})\\t(.*?)\\t(.*)\")\n",
    "\n",
    "# Tracking the current date\n",
    "current_date = None\n",
    "\n",
    "# Extracting datetime and messages for the user \"Sushmita\"\n",
    "sushmita_data = []\n",
    "\n",
    "for line in chat_content:\n",
    "    # Update the current date when a date line is encountered\n",
    "    date_match = re.match(r\"(\\w{3}, \\d{2}/\\d{2}/\\d{4})\", line)\n",
    "    if date_match:\n",
    "        current_date = date_match.group(1)\n",
    "    \n",
    "    # Extract messages and their details\n",
    "    match = adjusted_message_pattern.match(line)\n",
    "    if match and current_date:\n",
    "        time, sender, message = match.groups()\n",
    "        if sender == \"Sushmita\":\n",
    "            sushmita_data.append({\n",
    "                \"Date\": current_date,\n",
    "                \"Time\": time,\n",
    "                \"Message\": message\n",
    "            })\n",
    "\n",
    "# Convert to DataFrame\n",
    "sushmita_df = pd.DataFrame(sushmita_data)\n",
    "\n",
    "# Displaying the first few rows\n",
    "sushmita_df.head()\n"
   ]
  },
  {
   "cell_type": "code",
   "execution_count": 35,
   "id": "3d994042",
   "metadata": {},
   "outputs": [
    {
     "data": {
      "text/plain": [
       "Datetime\n",
       "2023-01-31    1\n",
       "2023-02-01    0\n",
       "2023-02-02    0\n",
       "2023-02-03    0\n",
       "2023-02-04    0\n",
       "Freq: D, Name: Message, dtype: int64"
      ]
     },
     "execution_count": 35,
     "metadata": {},
     "output_type": "execute_result"
    }
   ],
   "source": [
    "# Converting the date and time to datetime format\n",
    "sushmita_df['Datetime'] = pd.to_datetime(sushmita_df['Date'] + ' ' + sushmita_df['Time'], format='%a, %d/%m/%Y %H:%M')\n",
    "\n",
    "# Setting the datetime as the DataFrame index\n",
    "sushmita_df.set_index('Datetime', inplace=True)\n",
    "\n",
    "# Creating a binary time series representing whether Sushmita sent a message each day\n",
    "sushmita_time_series = sushmita_df.resample('D').apply(lambda x: 1 if len(x) > 0 else 0)\n",
    "\n",
    "# Keeping only one column to represent whether Sushmita sent a message\n",
    "sushmita_time_series = sushmita_time_series['Message']\n",
    "\n",
    "# Displaying the first few rows of the cleaned-up time series data\n",
    "sushmita_time_series.head()\n",
    "\n"
   ]
  },
  {
   "cell_type": "code",
   "execution_count": 36,
   "id": "35c3677d",
   "metadata": {},
   "outputs": [
    {
     "data": {
      "text/plain": [
       "(Datetime\n",
       " 2023-01-31    1\n",
       " 2023-02-01    0\n",
       " 2023-02-02    0\n",
       " 2023-02-03    0\n",
       " 2023-02-04    0\n",
       " Freq: D, Name: Message, dtype: int64,\n",
       " Datetime\n",
       " 2023-07-13    0\n",
       " 2023-07-14    0\n",
       " 2023-07-15    0\n",
       " 2023-07-16    0\n",
       " 2023-07-17    1\n",
       " Freq: D, Name: Message, dtype: int64)"
      ]
     },
     "execution_count": 36,
     "metadata": {},
     "output_type": "execute_result"
    }
   ],
   "source": [
    "# Re-running the data preprocessing steps to regenerate the time series data for Sushmita\n",
    "sushmita_df['Datetime'] = pd.to_datetime(sushmita_df['Date'] + ' ' + sushmita_df['Time'], format='%a, %d/%m/%Y %H:%M')\n",
    "sushmita_df.set_index('Datetime', inplace=True)\n",
    "sushmita_time_series = sushmita_df.resample('D').apply(lambda x: 1 if len(x) > 0 else 0)\n",
    "sushmita_time_series = sushmita_time_series['Message']\n",
    "\n",
    "# Splitting the data into training and testing sets (80% training, 20% testing)\n",
    "train_sushmita, test_sushmita = train_test_split(sushmita_time_series, test_size=0.2, shuffle=False)\n",
    "\n",
    "# Displaying the first few rows of the training and testing sets\n",
    "train_sushmita.head(), test_sushmita.head()\n"
   ]
  },
  {
   "cell_type": "code",
   "execution_count": 37,
   "id": "1153158d",
   "metadata": {},
   "outputs": [
    {
     "data": {
      "image/png": "[encoded data removed]",
      "text/plain": [
       "<Figure size 864x288 with 2 Axes>"
      ]
     },
     "metadata": {
      "needs_background": "light"
     },
     "output_type": "display_data"
    }
   ],
   "source": [
    "from statsmodels.graphics.tsaplots import plot_acf, plot_pacf\n",
    "import matplotlib.pyplot as plt\n",
    "\n",
    "# Plotting the ACF and PACF plots for the training data\n",
    "fig, ax = plt.subplots(1, 2, figsize=(12, 4))\n",
    "\n",
    "# ACF plot\n",
    "plot_acf(train_sushmita, lags=40, ax=ax[0])\n",
    "ax[0].set_title('ACF Plot')\n",
    "\n",
    "# PACF plot\n",
    "plot_pacf(train_sushmita, lags=40, ax=ax[1])\n",
    "ax[1].set_title('PACF Plot')\n",
    "\n",
    "plt.tight_layout()\n",
    "plt.show()\n"
   ]
  },
  {
   "cell_type": "code",
   "execution_count": 38,
   "id": "6a498e16",
   "metadata": {},
   "outputs": [
    {
     "data": {
      "text/html": [
       "<table class=\"simpletable\">\n",
       "<caption>SARIMAX Results</caption>\n",
       "<tr>\n",
       "  <th>Dep. Variable:</th>        <td>Message</td>     <th>  No. Observations:  </th>   <td>163</td>  \n",
       "</tr>\n",
       "<tr>\n",
       "  <th>Model:</th>                 <td>ARIMA</td>      <th>  Log Likelihood     </th> <td>28.839</td> \n",
       "</tr>\n",
       "<tr>\n",
       "  <th>Date:</th>            <td>Sun, 17 Sep 2023</td> <th>  AIC                </th> <td>-53.679</td>\n",
       "</tr>\n",
       "<tr>\n",
       "  <th>Time:</th>                <td>20:51:44</td>     <th>  BIC                </th> <td>-47.491</td>\n",
       "</tr>\n",
       "<tr>\n",
       "  <th>Sample:</th>             <td>01-31-2023</td>    <th>  HQIC               </th> <td>-51.167</td>\n",
       "</tr>\n",
       "<tr>\n",
       "  <th></th>                   <td>- 07-12-2023</td>   <th>                     </th>    <td> </td>   \n",
       "</tr>\n",
       "<tr>\n",
       "  <th>Covariance Type:</th>        <td>opg</td>       <th>                     </th>    <td> </td>   \n",
       "</tr>\n",
       "</table>\n",
       "<table class=\"simpletable\">\n",
       "<tr>\n",
       "     <td></td>       <th>coef</th>     <th>std err</th>      <th>z</th>      <th>P>|z|</th>  <th>[0.025</th>    <th>0.975]</th>  \n",
       "</tr>\n",
       "<tr>\n",
       "  <th>const</th>  <td>    0.0429</td> <td>  450.340</td> <td> 9.53e-05</td> <td> 1.000</td> <td> -882.608</td> <td>  882.694</td>\n",
       "</tr>\n",
       "<tr>\n",
       "  <th>sigma2</th> <td>    0.0411</td> <td>   40.498</td> <td>    0.001</td> <td> 0.999</td> <td>  -79.334</td> <td>   79.416</td>\n",
       "</tr>\n",
       "</table>\n",
       "<table class=\"simpletable\">\n",
       "<tr>\n",
       "  <th>Ljung-Box (L1) (Q):</th>     <td>0.25</td> <th>  Jarque-Bera (JB):  </th> <td>2834.38</td>\n",
       "</tr>\n",
       "<tr>\n",
       "  <th>Prob(Q):</th>                <td>0.62</td> <th>  Prob(JB):          </th>  <td>0.00</td>  \n",
       "</tr>\n",
       "<tr>\n",
       "  <th>Heteroskedasticity (H):</th> <td>0.68</td> <th>  Skew:              </th>  <td>4.51</td>  \n",
       "</tr>\n",
       "<tr>\n",
       "  <th>Prob(H) (two-sided):</th>    <td>0.16</td> <th>  Kurtosis:          </th>  <td>21.33</td> \n",
       "</tr>\n",
       "</table><br/><br/>Warnings:<br/>[1] Covariance matrix calculated using the outer product of gradients (complex-step)."
      ],
      "text/latex": [
       "\\begin{center}\n",
       "\\begin{tabular}{lclc}\n",
       "\\toprule\n",
       "\\textbf{Dep. Variable:}          &     Message      & \\textbf{  No. Observations:  } &    163      \\\\\n",
       "\\textbf{Model:}                  &      ARIMA       & \\textbf{  Log Likelihood     } &   28.839    \\\\\n",
       "\\textbf{Date:}                   & Sun, 17 Sep 2023 & \\textbf{  AIC                } &  -53.679    \\\\\n",
       "\\textbf{Time:}                   &     20:51:44     & \\textbf{  BIC                } &  -47.491    \\\\\n",
       "\\textbf{Sample:}                 &    01-31-2023    & \\textbf{  HQIC               } &  -51.167    \\\\\n",
       "\\textbf{}                        &   - 07-12-2023   & \\textbf{                     } &             \\\\\n",
       "\\textbf{Covariance Type:}        &       opg        & \\textbf{                     } &             \\\\\n",
       "\\bottomrule\n",
       "\\end{tabular}\n",
       "\\begin{tabular}{lcccccc}\n",
       "                & \\textbf{coef} & \\textbf{std err} & \\textbf{z} & \\textbf{P$> |$z$|$} & \\textbf{[0.025} & \\textbf{0.975]}  \\\\\n",
       "\\midrule\n",
       "\\textbf{const}  &       0.0429  &      450.340     &  9.53e-05  &         1.000        &     -882.608    &      882.694     \\\\\n",
       "\\textbf{sigma2} &       0.0411  &       40.498     &     0.001  &         0.999        &      -79.334    &       79.416     \\\\\n",
       "\\bottomrule\n",
       "\\end{tabular}\n",
       "\\begin{tabular}{lclc}\n",
       "\\textbf{Ljung-Box (L1) (Q):}     & 0.25 & \\textbf{  Jarque-Bera (JB):  } & 2834.38  \\\\\n",
       "\\textbf{Prob(Q):}                & 0.62 & \\textbf{  Prob(JB):          } &   0.00   \\\\\n",
       "\\textbf{Heteroskedasticity (H):} & 0.68 & \\textbf{  Skew:              } &   4.51   \\\\\n",
       "\\textbf{Prob(H) (two-sided):}    & 0.16 & \\textbf{  Kurtosis:          } &  21.33   \\\\\n",
       "\\bottomrule\n",
       "\\end{tabular}\n",
       "%\\caption{SARIMAX Results}\n",
       "\\end{center}\n",
       "\n",
       "Warnings: \\newline\n",
       " [1] Covariance matrix calculated using the outer product of gradients (complex-step)."
      ],
      "text/plain": [
       "<class 'statsmodels.iolib.summary.Summary'>\n",
       "\"\"\"\n",
       "                               SARIMAX Results                                \n",
       "==============================================================================\n",
       "Dep. Variable:                Message   No. Observations:                  163\n",
       "Model:                          ARIMA   Log Likelihood                  28.839\n",
       "Date:                Sun, 17 Sep 2023   AIC                            -53.679\n",
       "Time:                        20:51:44   BIC                            -47.491\n",
       "Sample:                    01-31-2023   HQIC                           -51.167\n",
       "                         - 07-12-2023                                         \n",
       "Covariance Type:                  opg                                         \n",
       "==============================================================================\n",
       "                 coef    std err          z      P>|z|      [0.025      0.975]\n",
       "------------------------------------------------------------------------------\n",
       "const          0.0429    450.340   9.53e-05      1.000    -882.608     882.694\n",
       "sigma2         0.0411     40.498      0.001      0.999     -79.334      79.416\n",
       "===================================================================================\n",
       "Ljung-Box (L1) (Q):                   0.25   Jarque-Bera (JB):              2834.38\n",
       "Prob(Q):                              0.62   Prob(JB):                         0.00\n",
       "Heteroskedasticity (H):               0.68   Skew:                             4.51\n",
       "Prob(H) (two-sided):                  0.16   Kurtosis:                        21.33\n",
       "===================================================================================\n",
       "\n",
       "Warnings:\n",
       "[1] Covariance matrix calculated using the outer product of gradients (complex-step).\n",
       "\"\"\""
      ]
     },
     "execution_count": 38,
     "metadata": {},
     "output_type": "execute_result"
    }
   ],
   "source": [
    "from statsmodels.tsa.arima.model import ARIMA\n",
    "\n",
    "# Fitting the ARIMA(0,0,0) model to the training data\n",
    "arima_model = ARIMA(train_sushmita, order=(0, 0, 0))\n",
    "arima_fit = arima_model.fit()\n",
    "\n",
    "# Displaying the model summary\n",
    "arima_fit.summary()\n"
   ]
  },
  {
   "cell_type": "code",
   "execution_count": null,
   "id": "891ec74f",
   "metadata": {},
   "outputs": [],
   "source": []
  }
 ],
 "metadata": {
  "kernelspec": {
   "display_name": "Python 3 (ipykernel)",
   "language": "python",
   "name": "python3"
  },
  "language_info": {
   "codemirror_mode": {
    "name": "ipython",
    "version": 3
   },
   "file_extension": ".py",
   "mimetype": "text/x-python",
   "name": "python",
   "nbconvert_exporter": "python",
   "pygments_lexer": "ipython3",
   "version": "3.9.12"
  },
  "varInspector": {
   "cols": {
    "lenName": 16,
    "lenType": 16,
    "lenVar": 40
   },
   "kernels_config": {
    "python": {
     "delete_cmd_postfix": "",
     "delete_cmd_prefix": "del ",
     "library": "var_list.py",
     "varRefreshCmd": "print(var_dic_list())"
    },
    "r": {
     "delete_cmd_postfix": ") ",
     "delete_cmd_prefix": "rm(",
     "library": "var_list.r",
     "varRefreshCmd": "cat(var_dic_list()) "
    }
   },
   "types_to_exclude": [
    "module",
    "function",
    "builtin_function_or_method",
    "instance",
    "_Feature"
   ],
   "window_display": false
  }
 },
 "nbformat": 4,
 "nbformat_minor": 5
}
